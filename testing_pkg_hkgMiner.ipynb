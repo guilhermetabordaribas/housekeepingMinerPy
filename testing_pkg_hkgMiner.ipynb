{
 "cells": [
  {
   "cell_type": "code",
   "execution_count": 1,
   "id": "0f69d27f-1405-4d20-90ea-9520ab99f266",
   "metadata": {},
   "outputs": [],
   "source": [
    "import pandas as pd\n",
    "import numpy as np\n",
    "import anndata as ad\n",
    "\n",
    "import matplotlib.pyplot as plt\n",
    "import seaborn as sns"
   ]
  },
  {
   "cell_type": "code",
   "execution_count": 2,
   "id": "44aed37f-9b88-430d-8c0d-fa9b095f5e68",
   "metadata": {},
   "outputs": [],
   "source": [
    "import sys\n",
    "sys.path.append('/mnt/d/housekeeping_genes')\n",
    "import housekeepingMinerPy as hkg"
   ]
  },
  {
   "cell_type": "code",
   "execution_count": 3,
   "id": "29eb3aba-4d11-4832-820b-eed17d90f042",
   "metadata": {},
   "outputs": [
    {
     "data": {
      "text/plain": [
       "AnnData object with n_obs × n_vars = 691 × 20145\n",
       "    obs: 'gse', 'ar', 'louvain_group', 'UMAP_1', 'UMAP_2'\n",
       "    layers: 'arcsinh'"
      ]
     },
     "execution_count": 3,
     "metadata": {},
     "output_type": "execute_result"
    }
   ],
   "source": [
    "adata = ad.read_h5ad('/mnt/d/postransplant_cristian_colab/predictor/adata_ALLgenes_ngs_ma_predictor_dataset.h5ad')\n",
    "adata"
   ]
  },
  {
   "cell_type": "code",
   "execution_count": 4,
   "id": "a3716de2-3db6-44b9-9246-fe9cf651c55e",
   "metadata": {},
   "outputs": [
    {
     "data": {
      "text/plain": [
       "AnnData object with n_obs × n_vars = 691 × 20145\n",
       "    obs: 'gse', 'ar', 'louvain_group', 'UMAP_1', 'UMAP_2'\n",
       "    layers: 'arcsinh', 'log1p'"
      ]
     },
     "execution_count": 4,
     "metadata": {},
     "output_type": "execute_result"
    }
   ],
   "source": [
    "hkg.pp.log_transform(adata, method='log1p')\n",
    "hkg.pp.log_transform(adata, method='arcsinh')"
   ]
  },
  {
   "cell_type": "code",
   "execution_count": 5,
   "id": "9a8f3554-fafe-4c64-8a28-8b4f74d4fd96",
   "metadata": {},
   "outputs": [
    {
     "data": {
      "text/plain": [
       "AnnData object with n_obs × n_vars = 691 × 20145\n",
       "    obs: 'gse', 'ar', 'louvain_group', 'UMAP_1', 'UMAP_2', 'type'\n",
       "    layers: 'arcsinh', 'log1p'"
      ]
     },
     "execution_count": 5,
     "metadata": {},
     "output_type": "execute_result"
    }
   ],
   "source": [
    "adata.obs['type'] = adata.obs.gse.map({'GSE175718':'TMM', 'GSE120649':'TMM', 'GSE14346':'quantile', 'GSE15296':'quantile', 'GSE129166':'quantile', 'GSE46474':'quantile'})\n",
    "adata"
   ]
  },
  {
   "cell_type": "code",
   "execution_count": 6,
   "id": "1429ed89-9094-400b-a2a5-5793be11043b",
   "metadata": {},
   "outputs": [
    {
     "data": {
      "text/plain": [
       "AnnData object with n_obs × n_vars = 691 × 20145\n",
       "    obs: 'gse', 'ar', 'louvain_group', 'UMAP_1', 'UMAP_2', 'type'\n",
       "    layers: 'arcsinh', 'log1p', 'trns_expr'"
      ]
     },
     "execution_count": 6,
     "metadata": {},
     "output_type": "execute_result"
    }
   ],
   "source": [
    "trns_dict = dict(adata.obs[['louvain_group','type']].values)\n",
    "hkg.pp.transform_exprs(adata, groups_col='louvain_group', trns_dict=trns_dict)"
   ]
  },
  {
   "cell_type": "markdown",
   "id": "7e8f65af-5f8a-41f8-8d78-b2efb6de8b9c",
   "metadata": {},
   "source": [
    "# Exclude genes with high number of zeros expressions"
   ]
  },
  {
   "cell_type": "code",
   "execution_count": 7,
   "id": "9496a095-cfaf-4284-a850-27512ee380eb",
   "metadata": {},
   "outputs": [],
   "source": [
    "aux = adata.to_df()"
   ]
  },
  {
   "cell_type": "code",
   "execution_count": 8,
   "id": "acb6eefb-4510-4000-b424-0c8c66122ab8",
   "metadata": {},
   "outputs": [
    {
     "data": {
      "text/plain": [
       "<Axes: ylabel='Count'>"
      ]
     },
     "execution_count": 8,
     "metadata": {},
     "output_type": "execute_result"
    },
    {
     "data": {
      "image/png": "[encoded data removed]",
      "text/plain": [
       "<Figure size 640x480 with 1 Axes>"
      ]
     },
     "metadata": {},
     "output_type": "display_data"
    }
   ],
   "source": [
    "sns.histplot(data=(aux>0).sum())"
   ]
  },
  {
   "cell_type": "code",
   "execution_count": 9,
   "id": "e0b2f1e6-b48f-4f0f-a2c6-c12e71ebffd4",
   "metadata": {},
   "outputs": [
    {
     "name": "stdout",
     "output_type": "stream",
     "text": [
      "690.0\n"
     ]
    },
    {
     "data": {
      "text/html": [
       "<div>\n",
       "<style scoped>\n",
       "    .dataframe tbody tr th:only-of-type {\n",
       "        vertical-align: middle;\n",
       "    }\n",
       "\n",
       "    .dataframe tbody tr th {\n",
       "        vertical-align: top;\n",
       "    }\n",
       "\n",
       "    .dataframe thead th {\n",
       "        text-align: right;\n",
       "    }\n",
       "</style>\n",
       "<table border=\"1\" class=\"dataframe\">\n",
       "  <thead>\n",
       "    <tr style=\"text-align: right;\">\n",
       "      <th></th>\n",
       "      <th>NMT1</th>\n",
       "      <th>EVL</th>\n",
       "      <th>MACF1</th>\n",
       "      <th>HERC1</th>\n",
       "      <th>MED13</th>\n",
       "      <th>GNAI3</th>\n",
       "      <th>MAPK3</th>\n",
       "      <th>SMC4</th>\n",
       "      <th>YIPF4</th>\n",
       "      <th>RUFY3</th>\n",
       "      <th>...</th>\n",
       "      <th>SCAF11</th>\n",
       "      <th>NUFIP2</th>\n",
       "      <th>PRRG4</th>\n",
       "      <th>NUP98</th>\n",
       "      <th>CKLF</th>\n",
       "      <th>PURA</th>\n",
       "      <th>HLA-DRB1</th>\n",
       "      <th>NLRC5</th>\n",
       "      <th>SERINC3</th>\n",
       "      <th>PDE4B</th>\n",
       "    </tr>\n",
       "  </thead>\n",
       "  <tbody>\n",
       "    <tr>\n",
       "      <th>SRR14675811</th>\n",
       "      <td>17.869562</td>\n",
       "      <td>13.157526</td>\n",
       "      <td>9.208133</td>\n",
       "      <td>18.230010</td>\n",
       "      <td>1.236761</td>\n",
       "      <td>2.643699</td>\n",
       "      <td>26.726380</td>\n",
       "      <td>10.046553</td>\n",
       "      <td>3.234725</td>\n",
       "      <td>2.410637</td>\n",
       "      <td>...</td>\n",
       "      <td>102.942351</td>\n",
       "      <td>1.790467</td>\n",
       "      <td>3.397528</td>\n",
       "      <td>2.432414</td>\n",
       "      <td>98.532207</td>\n",
       "      <td>8.111878</td>\n",
       "      <td>35.055475</td>\n",
       "      <td>9.766339</td>\n",
       "      <td>4.818316</td>\n",
       "      <td>9.050980</td>\n",
       "    </tr>\n",
       "    <tr>\n",
       "      <th>SRR14675812</th>\n",
       "      <td>4.714020</td>\n",
       "      <td>3.365281</td>\n",
       "      <td>9.412744</td>\n",
       "      <td>9.690353</td>\n",
       "      <td>2.051206</td>\n",
       "      <td>1.591360</td>\n",
       "      <td>12.332991</td>\n",
       "      <td>0.914839</td>\n",
       "      <td>1.414405</td>\n",
       "      <td>0.050185</td>\n",
       "      <td>...</td>\n",
       "      <td>11.696386</td>\n",
       "      <td>1.199798</td>\n",
       "      <td>0.951329</td>\n",
       "      <td>0.894384</td>\n",
       "      <td>22.644711</td>\n",
       "      <td>2.926578</td>\n",
       "      <td>4.955858</td>\n",
       "      <td>2.845137</td>\n",
       "      <td>1.313767</td>\n",
       "      <td>2.809990</td>\n",
       "    </tr>\n",
       "    <tr>\n",
       "      <th>SRR14675813</th>\n",
       "      <td>33.533007</td>\n",
       "      <td>23.296083</td>\n",
       "      <td>8.160651</td>\n",
       "      <td>53.006715</td>\n",
       "      <td>2.175927</td>\n",
       "      <td>5.855531</td>\n",
       "      <td>9.460099</td>\n",
       "      <td>8.232967</td>\n",
       "      <td>4.427648</td>\n",
       "      <td>35.136059</td>\n",
       "      <td>...</td>\n",
       "      <td>242.631331</td>\n",
       "      <td>3.722057</td>\n",
       "      <td>3.847442</td>\n",
       "      <td>2.161920</td>\n",
       "      <td>284.608893</td>\n",
       "      <td>9.742505</td>\n",
       "      <td>93.873232</td>\n",
       "      <td>20.077701</td>\n",
       "      <td>6.593228</td>\n",
       "      <td>32.181997</td>\n",
       "    </tr>\n",
       "    <tr>\n",
       "      <th>SRR14675814</th>\n",
       "      <td>16.929764</td>\n",
       "      <td>14.073394</td>\n",
       "      <td>7.278472</td>\n",
       "      <td>0.807627</td>\n",
       "      <td>0.818456</td>\n",
       "      <td>3.221957</td>\n",
       "      <td>17.707674</td>\n",
       "      <td>11.744962</td>\n",
       "      <td>4.392592</td>\n",
       "      <td>2.683345</td>\n",
       "      <td>...</td>\n",
       "      <td>62.818120</td>\n",
       "      <td>1.922354</td>\n",
       "      <td>2.113017</td>\n",
       "      <td>1.470172</td>\n",
       "      <td>116.246039</td>\n",
       "      <td>9.510379</td>\n",
       "      <td>45.416548</td>\n",
       "      <td>9.583654</td>\n",
       "      <td>3.362681</td>\n",
       "      <td>6.214739</td>\n",
       "    </tr>\n",
       "    <tr>\n",
       "      <th>SRR14675815</th>\n",
       "      <td>17.900022</td>\n",
       "      <td>11.383978</td>\n",
       "      <td>4.592463</td>\n",
       "      <td>12.899020</td>\n",
       "      <td>2.304363</td>\n",
       "      <td>2.027365</td>\n",
       "      <td>28.340985</td>\n",
       "      <td>9.183847</td>\n",
       "      <td>3.586995</td>\n",
       "      <td>1.724221</td>\n",
       "      <td>...</td>\n",
       "      <td>43.286423</td>\n",
       "      <td>0.730303</td>\n",
       "      <td>2.437640</td>\n",
       "      <td>1.381019</td>\n",
       "      <td>99.283547</td>\n",
       "      <td>5.824697</td>\n",
       "      <td>12.197730</td>\n",
       "      <td>9.291400</td>\n",
       "      <td>3.087440</td>\n",
       "      <td>4.179272</td>\n",
       "    </tr>\n",
       "  </tbody>\n",
       "</table>\n",
       "<p>5 rows × 2129 columns</p>\n",
       "</div>"
      ],
      "text/plain": [
       "                  NMT1        EVL     MACF1      HERC1     MED13     GNAI3  \\\n",
       "SRR14675811  17.869562  13.157526  9.208133  18.230010  1.236761  2.643699   \n",
       "SRR14675812   4.714020   3.365281  9.412744   9.690353  2.051206  1.591360   \n",
       "SRR14675813  33.533007  23.296083  8.160651  53.006715  2.175927  5.855531   \n",
       "SRR14675814  16.929764  14.073394  7.278472   0.807627  0.818456  3.221957   \n",
       "SRR14675815  17.900022  11.383978  4.592463  12.899020  2.304363  2.027365   \n",
       "\n",
       "                 MAPK3       SMC4     YIPF4      RUFY3  ...      SCAF11  \\\n",
       "SRR14675811  26.726380  10.046553  3.234725   2.410637  ...  102.942351   \n",
       "SRR14675812  12.332991   0.914839  1.414405   0.050185  ...   11.696386   \n",
       "SRR14675813   9.460099   8.232967  4.427648  35.136059  ...  242.631331   \n",
       "SRR14675814  17.707674  11.744962  4.392592   2.683345  ...   62.818120   \n",
       "SRR14675815  28.340985   9.183847  3.586995   1.724221  ...   43.286423   \n",
       "\n",
       "               NUFIP2     PRRG4     NUP98        CKLF      PURA   HLA-DRB1  \\\n",
       "SRR14675811  1.790467  3.397528  2.432414   98.532207  8.111878  35.055475   \n",
       "SRR14675812  1.199798  0.951329  0.894384   22.644711  2.926578   4.955858   \n",
       "SRR14675813  3.722057  3.847442  2.161920  284.608893  9.742505  93.873232   \n",
       "SRR14675814  1.922354  2.113017  1.470172  116.246039  9.510379  45.416548   \n",
       "SRR14675815  0.730303  2.437640  1.381019   99.283547  5.824697  12.197730   \n",
       "\n",
       "                 NLRC5   SERINC3      PDE4B  \n",
       "SRR14675811   9.766339  4.818316   9.050980  \n",
       "SRR14675812   2.845137  1.313767   2.809990  \n",
       "SRR14675813  20.077701  6.593228  32.181997  \n",
       "SRR14675814   9.583654  3.362681   6.214739  \n",
       "SRR14675815   9.291400  3.087440   4.179272  \n",
       "\n",
       "[5 rows x 2129 columns]"
      ]
     },
     "execution_count": 9,
     "metadata": {},
     "output_type": "execute_result"
    }
   ],
   "source": [
    "th = (aux>0).sum().quantile(.9)\n",
    "print(th)\n",
    "cols = aux.loc[:,(((aux>0).sum())>=th).values].columns\n",
    "aux.loc[:,(((aux>0).sum())>=th).values].head()"
   ]
  },
  {
   "cell_type": "code",
   "execution_count": 10,
   "id": "781c5ff9-bb63-4c6d-b991-38227cd65ac8",
   "metadata": {},
   "outputs": [
    {
     "data": {
      "text/plain": [
       "View of AnnData object with n_obs × n_vars = 691 × 2129\n",
       "    obs: 'gse', 'ar', 'louvain_group', 'UMAP_1', 'UMAP_2', 'type'\n",
       "    layers: 'arcsinh', 'log1p', 'trns_expr'"
      ]
     },
     "execution_count": 10,
     "metadata": {},
     "output_type": "execute_result"
    }
   ],
   "source": [
    "adata = adata[:,cols]\n",
    "adata"
   ]
  },
  {
   "cell_type": "code",
   "execution_count": 12,
   "id": "a3db5202-3f2b-4c64-bd1a-d64b8e4455b2",
   "metadata": {},
   "outputs": [
    {
     "data": {
      "text/plain": [
       "AnnData object with n_obs × n_vars = 691 × 2129\n",
       "    obs: 'gse', 'ar', 'louvain_group', 'UMAP_1', 'UMAP_2', 'type'\n",
       "    var: 'pool_mean', 'pool_std', 'pool_cv'\n",
       "    layers: 'arcsinh', 'log1p', 'trns_expr'"
      ]
     },
     "execution_count": 12,
     "metadata": {},
     "output_type": "execute_result"
    }
   ],
   "source": [
    "hkg.mining.exprs_cv(adata, layer='trns_expr', groups_col='louvain_group')"
   ]
  },
  {
   "cell_type": "code",
   "execution_count": null,
   "id": "a16194bf-68d1-4339-8df3-fb28acc0dc7e",
   "metadata": {},
   "outputs": [
    {
     "name": "stdout",
     "output_type": "stream",
     "text": [
      "0 1 2 3 4 5 6 7 8 9 10 11 12 13 14 15 16 17 18 19 20 21 22 23 24 25 26 27 28 29 30 31 32 33 34 35 36 37 38 39 40 41 42 43 44 45 46 47 48 49 50 51 52 53 54 55 56 57 58 59 60 61 62 63 64 65 66 67 68 69 70 71 72 73 74 75 76 77 78 79 80 81 82 83 84 85 86 87 88 89 90 91 92 93 94 95 96 97 98 99 100 101 102 103 104 105 106 107 108 109 110 111 112 113 114 115 116 117 118 119 120 121 122 123 124 125 126 127 128 129 130 131 132 133 134 135 136 137 138 139 140 141 142 143 144 145 146 147 148 149 150 151 152 153 154 155 156 157 158 159 160 161 162 163 164 165 166 167 168 169 170 171 172 173 174 175 176 177 178 179 180 181 182 183 184 185 186 187 188 189 190 191 192 193 194 195 196 197 198 199 200 201 202 203 204 205 206 207 208 209 210 211 212 213 214 215 216 217 218 219 220 221 222 223 224 225 226 227 228 229 230 231 232 233 234 235 236 237 238 239 240 241 242 243 244 245 246 247 248 249 250 251 252 253 254 255 256 257 258 259 260 261 262 263 264 265 266 267 268 269 270 271 272 273 274 275 276 277 278 279 280 281 282 283 284 285 286 287 288 289 290 291 292 293 294 295 296 297 298 299 300 301 302 303 304 305 306 307 308 309 310 311 312 313 314 315 316 317 318 319 320 321 322 323 324 325 326 327 328 329 330 331 332 333 334 335 336 337 338 339 340 341 342 343 344 345 346 347 348 349 350 351 352 353 354 355 356 357 358 359 360 361 362 363 364 365 366 367 368 369 370 371 372 373 374 375 376 377 378 379 380 381 382 383 384 385 386 387 388 389 390 391 392 393 394 395 396 397 398 399 400 401 402 403 404 405 406 407 408 409 410 411 412 413 414 415 416 417 418 419 420 421 422 423 424 425 426 427 428 429 430 431 432 433 434 435 436 437 438 439 440 441 442 443 444 445 446 447 448 449 450 451 452 453 454 455 456 457 458 459 460 461 462 463 464 465 466 467 468 469 470 471 472 473 474 475 476 477 478 479 480 481 482 483 484 485 486 487 488 489 490 491 492 493 494 495 496 497 498 499 500 501 502 503 504 505 506 507 508 509 510 511 512 513 514 515 516 517 518 519 520 521 522 523 524 525 526 527 528 529 530 531 532 533 534 535 536 537 538 539 540 541 542 543 544 545 546 547 548 549 550 551 552 553 554 555 556 557 558 559 560 561 562 563 564 565 566 567 568 569 570 571 572 573 574 575 576 577 578 579 580 581 582 583 584 585 586 587 588 589 590 591 592 593 594 595 596 597 598 599 600 601 602 603 604 605 606 607 608 609 610 611 612 613 614 615 616 617 618 619 620 621 622 623 624 625 626 627 628 629 630 631 632 633 634 635 636 637 638 639 640 641 642 643 644 645 646 647 648 649 650 651 652 653 654 655 656 657 658 659 660 661 662 663 664 665 666 667 668 669 670 671 672 673 674 675 676 677 678 679 680 681 682 683 684 685 686 687 688 689 690 "
     ]
    }
   ],
   "source": [
    "hkg.mining.stability_cv(adata, layer='trns_expr', groups_col='louvain_group', n_jobs=10, round_f=2)"
   ]
  },
  {
   "cell_type": "code",
   "execution_count": 18,
   "id": "19c25da7-82fd-4784-97ec-7368bf7bf3d5",
   "metadata": {},
   "outputs": [],
   "source": [
    "from scipy.spatial.distance import squareform\n",
    "from sklearn.metrics import pairwise_distances"
   ]
  },
  {
   "cell_type": "code",
   "execution_count": null,
   "id": "6203db07-fa80-4051-86ed-ab5d988e3cc8",
   "metadata": {},
   "outputs": [
    {
     "name": "stdout",
     "output_type": "stream",
     "text": [
      "0 1 2 3 4 5 6 7 8 9 10 11 12 13 14 15 16 17 18 19 20 21 22 23 24 25 26 27 28 29 30 31 32 33 34 35 36 37 38 39 40 41 42 43 44 45 46 47 48 49 50 51 52 53 54 55 56 57 58 59 60 61 62 63 64 65 66 67 68 69 70 71 72 73 74 75 76 77 78 79 80 81 82 83 84 85 86 87 88 89 90 91 92 93 94 95 96 97 98 99 100 101 102 103 104 105 106 107 108 109 110 111 112 113 114 115 116 117 118 119 120 121 122 123 124 125 126 127 128 129 130 131 132 133 134 135 136 137 138 139 140 141 142 143 144 145 146 147 148 149 150 151 152 153 154 155 156 157 158 159 160 161 162 163 164 165 166 167 168 169 170 171 172 173 174 175 176 177 178 179 180 181 182 183 184 185 186 187 188 189 190 191 192 193 194 195 196 197 198 199 200 201 202 203 204 205 206 207 208 209 210 211 212 213 214 215 216 217 218 219 220 221 222 223 224 225 226 227 228 229 230 231 232 233 234 235 236 237 238 239 240 241 242 243 244 245 246 247 248 249 250 251 252 253 254 255 256 257 258 259 260 261 262 263 264 265 266 267 268 269 270 271 272 273 274 275 276 277 278 279 280 281 282 283 284 285 286 287 288 289 290 291 292 293 294 295 296 297 298 299 300 301 302 303 304 305 306 307 308 309 310 311 312 313 314 315 316 317 318 319 320 321 322 323 324 325 326 327 328 329 330 331 332 333 334 335 336 337 338 339 340 341 342 343 344 345 346 347 348 349 350 351 352 353 354 355 356 357 358 359 360 361 362 363 364 365 366 367 368 369 370 371 372 373 374 375 376 377 378 379 380 381 382 383 384 385 386 387 388 389 390 391 392 393 394 395 396 397 398 399 400 401 402 403 404 405 406 407 408 409 410 411 412 413 414 415 416 417 418 419 420 421 422 423 424 425 426 427 428 429 430 431 432 433 434 435 436 437 438 439 440 441 442 443 444 445 446 447 448 449 450 451 452 453 454 455 456 457 458 459 460 461 462 463 464 465 466 467 468 469 470 471 472 473 474 475 476 477 478 479 480 481 482 483 484 485 486 487 488 489 490 491 492 493 494 495 496 497 498 499 500 501 502 503 504 505 506 507 508 509 510 511 512 513 514 515 516 517 518 519 520 521 522 523 524 525 526 527 528 529 530 531 532 533 534 535 536 537 538 539 540 541 542 543 544 545 546 547 548 549 550 551 552 553 554 555 556 557 558 559 560 561 562 563 564 565 566 567 568 569 570 571 572 573 574 575 576 577 578 579 580 581 582 583 584 585 586 587 588 589 590 591 592 593 594 595 596 597 598 599 600 601 602 603 604 605 606 607 608 609 610 611 612 613 614 615 616 617 618 619 620 621 622 623 624 625 626 627 628 629 630 631 632 633 634 635 636 637 638 639 640 641 642 643 644 645 646 647 648 649 650 651 652 653 654 655 656 657 658 659 660 661 662 663 664 665 666 667 668 669 670 671 672 673 674 675 676 677 678 679 680 681 682 683 684 685 686 687 688 689 690 "
     ]
    }
   ],
   "source": [
    "X_ = adata.layers['trns_expr']\n",
    "aux = []\n",
    "i = 0\n",
    "for r in X_:\n",
    "    a = squareform( pairwise_distances( r.reshape(-1, 1), n_jobs=10 ).round( 2 ) )\n",
    "    aux.append(a)\n",
    "    print(i, end=' ')\n",
    "    i+=1\n",
    "\n",
    "aux = pd.DataFrame(np.array(aux))\n",
    "aux.index = adata.obs.index\n",
    "aux.columns = [s[0]+','+s[1] for s in list(itertools.combinations(adata.var.index,2))]"
   ]
  },
  {
   "cell_type": "code",
   "execution_count": null,
   "id": "c748b831-351e-45f9-a703-4f387cd1f1d5",
   "metadata": {},
   "outputs": [],
   "source": []
  }
 ],
 "metadata": {
  "kernelspec": {
   "display_name": "Python 3 (ipykernel)",
   "language": "python",
   "name": "python3"
  },
  "language_info": {
   "codemirror_mode": {
    "name": "ipython",
    "version": 3
   },
   "file_extension": ".py",
   "mimetype": "text/x-python",
   "name": "python",
   "nbconvert_exporter": "python",
   "pygments_lexer": "ipython3",
   "version": "3.12.1"
  }
 },
 "nbformat": 4,
 "nbformat_minor": 5
}
