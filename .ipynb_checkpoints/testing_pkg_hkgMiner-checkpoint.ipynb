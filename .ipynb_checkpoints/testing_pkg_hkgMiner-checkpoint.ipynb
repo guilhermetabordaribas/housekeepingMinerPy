{
 "cells": [
  {
   "cell_type": "code",
   "execution_count": null,
   "id": "0f69d27f-1405-4d20-90ea-9520ab99f266",
   "metadata": {},
   "outputs": [],
   "source": [
    "import pandas as pd\n",
    "import numpy as np\n",
    "import anndata as ad\n",
    "\n",
    "import matplotlib.pyplot as plt\n",
    "import seaborn as sns"
   ]
  },
  {
   "cell_type": "code",
   "execution_count": 2,
   "id": "44aed37f-9b88-430d-8c0d-fa9b095f5e68",
   "metadata": {},
   "outputs": [],
   "source": [
    "import sys\n",
    "sys.path.append('/mnt/d/housekeeping_genes')\n",
    "import housekeepingMinerPy as hkg"
   ]
  },
  {
   "cell_type": "code",
   "execution_count": 17,
   "id": "29eb3aba-4d11-4832-820b-eed17d90f042",
   "metadata": {},
   "outputs": [
    {
     "data": {
      "text/plain": [
       "AnnData object with n_obs × n_vars = 691 × 20145\n",
       "    obs: 'gse', 'ar', 'louvain_group', 'UMAP_1', 'UMAP_2'\n",
       "    layers: 'arcsinh'"
      ]
     },
     "execution_count": 17,
     "metadata": {},
     "output_type": "execute_result"
    }
   ],
   "source": [
    "adata = ad.read_h5ad('/mnt/d/postransplant_cristian_colab/predictor/adata_ALLgenes_ngs_ma_predictor_dataset.h5ad')\n",
    "adata"
   ]
  },
  {
   "cell_type": "code",
   "execution_count": 18,
   "id": "a3716de2-3db6-44b9-9246-fe9cf651c55e",
   "metadata": {},
   "outputs": [
    {
     "data": {
      "text/plain": [
       "AnnData object with n_obs × n_vars = 691 × 20145\n",
       "    obs: 'gse', 'ar', 'louvain_group', 'UMAP_1', 'UMAP_2'\n",
       "    layers: 'arcsinh', 'log1p'"
      ]
     },
     "execution_count": 18,
     "metadata": {},
     "output_type": "execute_result"
    }
   ],
   "source": [
    "hkg.pp.log_transform(adata, method='log1p')\n",
    "hkg.pp.log_transform(adata, method='arcsinh')"
   ]
  },
  {
   "cell_type": "code",
   "execution_count": 19,
   "id": "9a8f3554-fafe-4c64-8a28-8b4f74d4fd96",
   "metadata": {},
   "outputs": [
    {
     "data": {
      "text/plain": [
       "AnnData object with n_obs × n_vars = 691 × 20145\n",
       "    obs: 'gse', 'ar', 'louvain_group', 'UMAP_1', 'UMAP_2', 'type'\n",
       "    layers: 'arcsinh', 'log1p'"
      ]
     },
     "execution_count": 19,
     "metadata": {},
     "output_type": "execute_result"
    }
   ],
   "source": [
    "adata.obs['type'] = adata.obs.gse.map({'GSE175718':'TMM', 'GSE120649':'TMM', 'GSE14346':'quantile', 'GSE15296':'quantile', 'GSE129166':'quantile', 'GSE46474':'quantile'})\n",
    "adata"
   ]
  },
  {
   "cell_type": "code",
   "execution_count": 20,
   "id": "1429ed89-9094-400b-a2a5-5793be11043b",
   "metadata": {},
   "outputs": [
    {
     "data": {
      "text/plain": [
       "AnnData object with n_obs × n_vars = 691 × 20145\n",
       "    obs: 'gse', 'ar', 'louvain_group', 'UMAP_1', 'UMAP_2', 'type'\n",
       "    layers: 'arcsinh', 'log1p', 'trns_expr'"
      ]
     },
     "execution_count": 20,
     "metadata": {},
     "output_type": "execute_result"
    }
   ],
   "source": [
    "trns_dict = dict(adata.obs[['louvain_group','type']].values)\n",
    "hkg.pp.transform_exprs(adata, groups_col='louvain_group', trns_dict=trns_dict)"
   ]
  },
  {
   "cell_type": "markdown",
   "id": "7e8f65af-5f8a-41f8-8d78-b2efb6de8b9c",
   "metadata": {},
   "source": [
    "# Exclude genes with high number of zeros expressions"
   ]
  },
  {
   "cell_type": "code",
   "execution_count": 21,
   "id": "9496a095-cfaf-4284-a850-27512ee380eb",
   "metadata": {},
   "outputs": [],
   "source": [
    "aux = adata.to_df()"
   ]
  },
  {
   "cell_type": "code",
   "execution_count": 22,
   "id": "acb6eefb-4510-4000-b424-0c8c66122ab8",
   "metadata": {},
   "outputs": [
    {
     "data": {
      "text/plain": [
       "<Axes: ylabel='Count'>"
      ]
     },
     "execution_count": 22,
     "metadata": {},
     "output_type": "execute_result"
    },
    {
     "data": {
      "image/png": "[encoded data removed]",
      "text/plain": [
       "<Figure size 640x480 with 1 Axes>"
      ]
     },
     "metadata": {},
     "output_type": "display_data"
    }
   ],
   "source": [
    "sns.histplot(data=(aux>0).sum())"
   ]
  },
  {
   "cell_type": "code",
   "execution_count": 23,
   "id": "e0b2f1e6-b48f-4f0f-a2c6-c12e71ebffd4",
   "metadata": {},
   "outputs": [
    {
     "name": "stdout",
     "output_type": "stream",
     "text": [
      "687.0\n"
     ]
    },
    {
     "data": {
      "text/html": [
       "<div>\n",
       "<style scoped>\n",
       "    .dataframe tbody tr th:only-of-type {\n",
       "        vertical-align: middle;\n",
       "    }\n",
       "\n",
       "    .dataframe tbody tr th {\n",
       "        vertical-align: top;\n",
       "    }\n",
       "\n",
       "    .dataframe thead th {\n",
       "        text-align: right;\n",
       "    }\n",
       "</style>\n",
       "<table border=\"1\" class=\"dataframe\">\n",
       "  <thead>\n",
       "    <tr style=\"text-align: right;\">\n",
       "      <th></th>\n",
       "      <th>NMNAT3</th>\n",
       "      <th>NMT1</th>\n",
       "      <th>EVL</th>\n",
       "      <th>MACF1</th>\n",
       "      <th>APOL1</th>\n",
       "      <th>DIS3</th>\n",
       "      <th>HERC1</th>\n",
       "      <th>CAVIN2</th>\n",
       "      <th>MMS19</th>\n",
       "      <th>MED13</th>\n",
       "      <th>...</th>\n",
       "      <th>FES</th>\n",
       "      <th>GPAA1</th>\n",
       "      <th>CCT5</th>\n",
       "      <th>PURA</th>\n",
       "      <th>HLA-DRB1</th>\n",
       "      <th>NLRC5</th>\n",
       "      <th>SERINC3</th>\n",
       "      <th>CTDSP2</th>\n",
       "      <th>NCOA2</th>\n",
       "      <th>PDE4B</th>\n",
       "    </tr>\n",
       "  </thead>\n",
       "  <tbody>\n",
       "    <tr>\n",
       "      <th>SRR14675811</th>\n",
       "      <td>3.698268</td>\n",
       "      <td>17.869562</td>\n",
       "      <td>13.157526</td>\n",
       "      <td>9.208133</td>\n",
       "      <td>3.378063</td>\n",
       "      <td>0.577179</td>\n",
       "      <td>18.230010</td>\n",
       "      <td>3.597561</td>\n",
       "      <td>7.983192</td>\n",
       "      <td>1.236761</td>\n",
       "      <td>...</td>\n",
       "      <td>2.153247</td>\n",
       "      <td>5.089900</td>\n",
       "      <td>5.351533</td>\n",
       "      <td>8.111878</td>\n",
       "      <td>35.055475</td>\n",
       "      <td>9.766339</td>\n",
       "      <td>4.818316</td>\n",
       "      <td>3.515069</td>\n",
       "      <td>3.136384</td>\n",
       "      <td>9.050980</td>\n",
       "    </tr>\n",
       "    <tr>\n",
       "      <th>SRR14675812</th>\n",
       "      <td>1.216780</td>\n",
       "      <td>4.714020</td>\n",
       "      <td>3.365281</td>\n",
       "      <td>9.412744</td>\n",
       "      <td>1.491737</td>\n",
       "      <td>0.300290</td>\n",
       "      <td>9.690353</td>\n",
       "      <td>1.459892</td>\n",
       "      <td>1.614808</td>\n",
       "      <td>2.051206</td>\n",
       "      <td>...</td>\n",
       "      <td>0.675272</td>\n",
       "      <td>1.724230</td>\n",
       "      <td>0.517397</td>\n",
       "      <td>2.926578</td>\n",
       "      <td>4.955858</td>\n",
       "      <td>2.845137</td>\n",
       "      <td>1.313767</td>\n",
       "      <td>1.226684</td>\n",
       "      <td>0.853023</td>\n",
       "      <td>2.809990</td>\n",
       "    </tr>\n",
       "    <tr>\n",
       "      <th>SRR14675813</th>\n",
       "      <td>8.288824</td>\n",
       "      <td>33.533007</td>\n",
       "      <td>23.296083</td>\n",
       "      <td>8.160651</td>\n",
       "      <td>5.025311</td>\n",
       "      <td>1.856209</td>\n",
       "      <td>53.006715</td>\n",
       "      <td>2.696466</td>\n",
       "      <td>28.334695</td>\n",
       "      <td>2.175927</td>\n",
       "      <td>...</td>\n",
       "      <td>7.249623</td>\n",
       "      <td>2.985662</td>\n",
       "      <td>6.689530</td>\n",
       "      <td>9.742505</td>\n",
       "      <td>93.873232</td>\n",
       "      <td>20.077701</td>\n",
       "      <td>6.593228</td>\n",
       "      <td>7.310164</td>\n",
       "      <td>2.464601</td>\n",
       "      <td>32.181997</td>\n",
       "    </tr>\n",
       "    <tr>\n",
       "      <th>SRR14675814</th>\n",
       "      <td>3.256562</td>\n",
       "      <td>16.929764</td>\n",
       "      <td>14.073394</td>\n",
       "      <td>7.278472</td>\n",
       "      <td>4.142695</td>\n",
       "      <td>0.997057</td>\n",
       "      <td>0.807627</td>\n",
       "      <td>1.103880</td>\n",
       "      <td>10.384057</td>\n",
       "      <td>0.818456</td>\n",
       "      <td>...</td>\n",
       "      <td>2.115793</td>\n",
       "      <td>2.542325</td>\n",
       "      <td>5.449680</td>\n",
       "      <td>9.510379</td>\n",
       "      <td>45.416548</td>\n",
       "      <td>9.583654</td>\n",
       "      <td>3.362681</td>\n",
       "      <td>3.344405</td>\n",
       "      <td>0.898820</td>\n",
       "      <td>6.214739</td>\n",
       "    </tr>\n",
       "    <tr>\n",
       "      <th>SRR14675815</th>\n",
       "      <td>2.328703</td>\n",
       "      <td>17.900022</td>\n",
       "      <td>11.383978</td>\n",
       "      <td>4.592463</td>\n",
       "      <td>2.081147</td>\n",
       "      <td>0.688332</td>\n",
       "      <td>12.899020</td>\n",
       "      <td>2.087939</td>\n",
       "      <td>4.189324</td>\n",
       "      <td>2.304363</td>\n",
       "      <td>...</td>\n",
       "      <td>1.532885</td>\n",
       "      <td>1.537663</td>\n",
       "      <td>3.552950</td>\n",
       "      <td>5.824697</td>\n",
       "      <td>12.197730</td>\n",
       "      <td>9.291400</td>\n",
       "      <td>3.087440</td>\n",
       "      <td>2.491886</td>\n",
       "      <td>0.949243</td>\n",
       "      <td>4.179272</td>\n",
       "    </tr>\n",
       "  </tbody>\n",
       "</table>\n",
       "<p>5 rows × 4274 columns</p>\n",
       "</div>"
      ],
      "text/plain": [
       "               NMNAT3       NMT1        EVL     MACF1     APOL1      DIS3  \\\n",
       "SRR14675811  3.698268  17.869562  13.157526  9.208133  3.378063  0.577179   \n",
       "SRR14675812  1.216780   4.714020   3.365281  9.412744  1.491737  0.300290   \n",
       "SRR14675813  8.288824  33.533007  23.296083  8.160651  5.025311  1.856209   \n",
       "SRR14675814  3.256562  16.929764  14.073394  7.278472  4.142695  0.997057   \n",
       "SRR14675815  2.328703  17.900022  11.383978  4.592463  2.081147  0.688332   \n",
       "\n",
       "                 HERC1    CAVIN2      MMS19     MED13  ...       FES  \\\n",
       "SRR14675811  18.230010  3.597561   7.983192  1.236761  ...  2.153247   \n",
       "SRR14675812   9.690353  1.459892   1.614808  2.051206  ...  0.675272   \n",
       "SRR14675813  53.006715  2.696466  28.334695  2.175927  ...  7.249623   \n",
       "SRR14675814   0.807627  1.103880  10.384057  0.818456  ...  2.115793   \n",
       "SRR14675815  12.899020  2.087939   4.189324  2.304363  ...  1.532885   \n",
       "\n",
       "                GPAA1      CCT5      PURA   HLA-DRB1      NLRC5   SERINC3  \\\n",
       "SRR14675811  5.089900  5.351533  8.111878  35.055475   9.766339  4.818316   \n",
       "SRR14675812  1.724230  0.517397  2.926578   4.955858   2.845137  1.313767   \n",
       "SRR14675813  2.985662  6.689530  9.742505  93.873232  20.077701  6.593228   \n",
       "SRR14675814  2.542325  5.449680  9.510379  45.416548   9.583654  3.362681   \n",
       "SRR14675815  1.537663  3.552950  5.824697  12.197730   9.291400  3.087440   \n",
       "\n",
       "               CTDSP2     NCOA2      PDE4B  \n",
       "SRR14675811  3.515069  3.136384   9.050980  \n",
       "SRR14675812  1.226684  0.853023   2.809990  \n",
       "SRR14675813  7.310164  2.464601  32.181997  \n",
       "SRR14675814  3.344405  0.898820   6.214739  \n",
       "SRR14675815  2.491886  0.949243   4.179272  \n",
       "\n",
       "[5 rows x 4274 columns]"
      ]
     },
     "execution_count": 23,
     "metadata": {},
     "output_type": "execute_result"
    }
   ],
   "source": [
    "th = (aux>0).sum().quantile(.8)\n",
    "print(th)\n",
    "# cols = aux.loc[:,(((aux>0).sum())>=th).values].columns\n",
    "cols = aux.loc[:,(((aux>0).sum())>=th).values].columns\n",
    "aux.loc[:,(((aux>0).sum())>=th).values].head()"
   ]
  },
  {
   "cell_type": "code",
   "execution_count": 24,
   "id": "781c5ff9-bb63-4c6d-b991-38227cd65ac8",
   "metadata": {},
   "outputs": [
    {
     "data": {
      "text/plain": [
       "View of AnnData object with n_obs × n_vars = 691 × 4274\n",
       "    obs: 'gse', 'ar', 'louvain_group', 'UMAP_1', 'UMAP_2', 'type'\n",
       "    layers: 'arcsinh', 'log1p', 'trns_expr'"
      ]
     },
     "execution_count": 24,
     "metadata": {},
     "output_type": "execute_result"
    }
   ],
   "source": [
    "adata = adata[:,cols]\n",
    "adata"
   ]
  },
  {
   "cell_type": "code",
   "execution_count": 25,
   "id": "a3db5202-3f2b-4c64-bd1a-d64b8e4455b2",
   "metadata": {},
   "outputs": [
    {
     "name": "stderr",
     "output_type": "stream",
     "text": [
      "/mnt/d/housekeeping_genes/housekeepingMinerPy/mining.py:60: ImplicitModificationWarning: Trying to modify attribute `.var` of view, initializing view as actual.\n",
      "  adata.var['mean_'+str(gc)] = np.mean(X_, axis=0)\n"
     ]
    },
    {
     "data": {
      "text/plain": [
       "AnnData object with n_obs × n_vars = 691 × 4274\n",
       "    obs: 'gse', 'ar', 'louvain_group', 'UMAP_1', 'UMAP_2', 'type'\n",
       "    var: 'pool_mean', 'pool_std', 'pool_cv'\n",
       "    layers: 'arcsinh', 'log1p', 'trns_expr'"
      ]
     },
     "execution_count": 25,
     "metadata": {},
     "output_type": "execute_result"
    }
   ],
   "source": [
    "hkg.mining.exprs_cv(adata, layer='trns_expr', groups_col='louvain_group')"
   ]
  },
  {
   "cell_type": "code",
   "execution_count": 26,
   "id": "908dce18-a6d2-4958-999d-00ed702ee686",
   "metadata": {},
   "outputs": [
    {
     "data": {
      "text/plain": [
       "AnnData object with n_obs × n_vars = 691 × 4274\n",
       "    obs: 'gse', 'ar', 'louvain_group', 'UMAP_1', 'UMAP_2', 'type'\n",
       "    var: 'pool_mean', 'pool_std', 'pool_cv'\n",
       "    layers: 'arcsinh', 'log1p', 'trns_expr'"
      ]
     },
     "execution_count": 26,
     "metadata": {},
     "output_type": "execute_result"
    }
   ],
   "source": [
    "adata"
   ]
  },
  {
   "cell_type": "code",
   "execution_count": null,
   "id": "a16194bf-68d1-4339-8df3-fb28acc0dc7e",
   "metadata": {},
   "outputs": [],
   "source": [
    "hkg.mining.stability_cv(adata, layer='trns_expr', groups_col='louvain_group')"
   ]
  },
  {
   "cell_type": "code",
   "execution_count": 16,
   "id": "bc498b32-9df5-46b5-9dc7-dd901589043e",
   "metadata": {},
   "outputs": [
    {
     "data": {
      "text/plain": [
       "<Axes: xlabel='pool_cv', ylabel='pool_stability_cv'>"
      ]
     },
     "execution_count": 16,
     "metadata": {},
     "output_type": "execute_result"
    },
    {
     "data": {
      "image/png": "[encoded data removed]",
      "text/plain": [
       "<Figure size 640x480 with 1 Axes>"
      ]
     },
     "metadata": {},
     "output_type": "display_data"
    }
   ],
   "source": [
    "sns.scatterplot(x='pool_cv',y='pool_stability_cv', hue='pool_mean', data=adata.var)"
   ]
  },
  {
   "cell_type": "code",
   "execution_count": 17,
   "id": "19c25da7-82fd-4784-97ec-7368bf7bf3d5",
   "metadata": {},
   "outputs": [],
   "source": [
    "import tempfile\n",
    "import itertools\n",
    "from scipy.spatial.distance import squareform\n",
    "from sklearn.metrics import pairwise_distances"
   ]
  },
  {
   "cell_type": "code",
   "execution_count": 18,
   "id": "b67c4d7c-eca9-4358-abc1-bae11c22552a",
   "metadata": {},
   "outputs": [],
   "source": [
    "cols_ = []\n",
    "idx_ = []\n",
    "groups_col = 'louvain_group'\n",
    "X_ = adata.layers['trns_expr']\n",
    "df_mean_ = []\n",
    "df_std_ = []\n",
    "j = 0\n",
    "groups = adata.obs[groups_col].unique()\n",
    "for gc in groups:\n",
    "    idx = np.where(adata.obs[groups_col]==gc)\n",
    "    mean_X_ = []\n",
    "    std_X_ = []\n",
    "    for i in range(X_.shape[1]):\n",
    "        mean_X_.extend(np.mean(X_[idx,i:] - X_[idx,i,None], axis=1)[0])\n",
    "        std_X_.extend(np.std(X_[idx,i:] - X_[idx,i,None], axis=1)[0])\n",
    "        if j == 0:\n",
    "            cols_.extend([','.join(p) for p in itertools.product([adata.var.index[i]],adata.var[i:].index)])\n",
    "    j+=1\n",
    "    df_mean_.append(mean_X_)\n",
    "    df_std_.append(std_X_)\n",
    "aux = pd.DataFrame(df_std_, columns=cols_, index=groups)/pd.DataFrame(df_mean_, columns=cols_, index=groups)\n",
    "# del(df_std_)\n",
    "# del(df_mean_)\n"
   ]
  },
  {
   "cell_type": "code",
   "execution_count": 19,
   "id": "47868ade-8900-46bd-9269-565ae4c97b3e",
   "metadata": {},
   "outputs": [
    {
     "data": {
      "text/html": [
       "<div>\n",
       "<style scoped>\n",
       "    .dataframe tbody tr th:only-of-type {\n",
       "        vertical-align: middle;\n",
       "    }\n",
       "\n",
       "    .dataframe tbody tr th {\n",
       "        vertical-align: top;\n",
       "    }\n",
       "\n",
       "    .dataframe thead th {\n",
       "        text-align: right;\n",
       "    }\n",
       "</style>\n",
       "<table border=\"1\" class=\"dataframe\">\n",
       "  <thead>\n",
       "    <tr style=\"text-align: right;\">\n",
       "      <th></th>\n",
       "      <th>gene</th>\n",
       "      <th>stability_cv</th>\n",
       "    </tr>\n",
       "  </thead>\n",
       "  <tbody>\n",
       "    <tr>\n",
       "      <th>0</th>\n",
       "      <td>TPT1</td>\n",
       "      <td>0.386237</td>\n",
       "    </tr>\n",
       "    <tr>\n",
       "      <th>1</th>\n",
       "      <td>TPT1</td>\n",
       "      <td>0.365534</td>\n",
       "    </tr>\n",
       "    <tr>\n",
       "      <th>2</th>\n",
       "      <td>TPT1</td>\n",
       "      <td>0.689933</td>\n",
       "    </tr>\n",
       "    <tr>\n",
       "      <th>3</th>\n",
       "      <td>TPT1</td>\n",
       "      <td>0.459710</td>\n",
       "    </tr>\n",
       "    <tr>\n",
       "      <th>4</th>\n",
       "      <td>TPT1</td>\n",
       "      <td>0.484252</td>\n",
       "    </tr>\n",
       "    <tr>\n",
       "      <th>...</th>\n",
       "      <td>...</td>\n",
       "      <td>...</td>\n",
       "    </tr>\n",
       "    <tr>\n",
       "      <th>235</th>\n",
       "      <td>TRIM13</td>\n",
       "      <td>0.324191</td>\n",
       "    </tr>\n",
       "    <tr>\n",
       "      <th>236</th>\n",
       "      <td>SYNE3</td>\n",
       "      <td>0.231898</td>\n",
       "    </tr>\n",
       "    <tr>\n",
       "      <th>237</th>\n",
       "      <td>TRIM13</td>\n",
       "      <td>0.441273</td>\n",
       "    </tr>\n",
       "    <tr>\n",
       "      <th>238</th>\n",
       "      <td>SYNE3</td>\n",
       "      <td>0.380119</td>\n",
       "    </tr>\n",
       "    <tr>\n",
       "      <th>239</th>\n",
       "      <td>SYNE3</td>\n",
       "      <td>4.688279</td>\n",
       "    </tr>\n",
       "  </tbody>\n",
       "</table>\n",
       "<p>240 rows × 2 columns</p>\n",
       "</div>"
      ],
      "text/plain": [
       "       gene  stability_cv\n",
       "0      TPT1      0.386237\n",
       "1      TPT1      0.365534\n",
       "2      TPT1      0.689933\n",
       "3      TPT1      0.459710\n",
       "4      TPT1      0.484252\n",
       "..      ...           ...\n",
       "235  TRIM13      0.324191\n",
       "236   SYNE3      0.231898\n",
       "237  TRIM13      0.441273\n",
       "238   SYNE3      0.380119\n",
       "239   SYNE3      4.688279\n",
       "\n",
       "[240 rows x 2 columns]"
      ]
     },
     "execution_count": 19,
     "metadata": {},
     "output_type": "execute_result"
    }
   ],
   "source": [
    "aux = pd.DataFrame(df_std_, columns=cols_, index=groups)/pd.DataFrame(df_mean_, columns=cols_, index=groups)\n",
    "aux = aux[[c for c in aux.columns if (len(set(c.split(',')))>1)]].abs()\n",
    "aux = aux.mean(axis=0).reset_index()\n",
    "aux.columns = ['gene', 'stability_cv']\n",
    "aux[['G1','G2']] = aux['gene'].str.split(',', expand=True)\n",
    "aux = pd.concat([aux[['G1','stability_cv']].set_index('G1'), aux[['G2','stability_cv']].set_index('G2')], axis=0).reset_index()\n",
    "aux.columns = ['gene', 'stability_cv']\n",
    "# adata.var['pool_stability_cv'] = aux.groupby('gene').mean().loc[adata.var.index,:]\n",
    "aux"
   ]
  },
  {
   "cell_type": "code",
   "execution_count": 140,
   "id": "e2fa5713-2413-423a-841b-6bfd0626021c",
   "metadata": {},
   "outputs": [
    {
     "data": {
      "text/html": [
       "<div>\n",
       "<style scoped>\n",
       "    .dataframe tbody tr th:only-of-type {\n",
       "        vertical-align: middle;\n",
       "    }\n",
       "\n",
       "    .dataframe tbody tr th {\n",
       "        vertical-align: top;\n",
       "    }\n",
       "\n",
       "    .dataframe thead th {\n",
       "        text-align: right;\n",
       "    }\n",
       "</style>\n",
       "<table border=\"1\" class=\"dataframe\">\n",
       "  <thead>\n",
       "    <tr style=\"text-align: right;\">\n",
       "      <th></th>\n",
       "      <th>pool_mean</th>\n",
       "      <th>pool_std</th>\n",
       "      <th>pool_cv</th>\n",
       "      <th>pool_stability_cv</th>\n",
       "    </tr>\n",
       "  </thead>\n",
       "  <tbody>\n",
       "    <tr>\n",
       "      <th>TPT1</th>\n",
       "      <td>99.870647</td>\n",
       "      <td>101.984256</td>\n",
       "      <td>1.021163</td>\n",
       "      <td>1.281687</td>\n",
       "    </tr>\n",
       "    <tr>\n",
       "      <th>STIP1</th>\n",
       "      <td>1.542766</td>\n",
       "      <td>0.726204</td>\n",
       "      <td>0.470715</td>\n",
       "      <td>1.118414</td>\n",
       "    </tr>\n",
       "    <tr>\n",
       "      <th>SCFD1</th>\n",
       "      <td>4.743274</td>\n",
       "      <td>2.149083</td>\n",
       "      <td>0.453080</td>\n",
       "      <td>2.230019</td>\n",
       "    </tr>\n",
       "    <tr>\n",
       "      <th>RPL37</th>\n",
       "      <td>47.793400</td>\n",
       "      <td>45.747994</td>\n",
       "      <td>0.957203</td>\n",
       "      <td>4.606917</td>\n",
       "    </tr>\n",
       "    <tr>\n",
       "      <th>OGA</th>\n",
       "      <td>6.913984</td>\n",
       "      <td>4.028201</td>\n",
       "      <td>0.582616</td>\n",
       "      <td>1.373671</td>\n",
       "    </tr>\n",
       "    <tr>\n",
       "      <th>SAMHD1</th>\n",
       "      <td>5.647720</td>\n",
       "      <td>3.479893</td>\n",
       "      <td>0.616159</td>\n",
       "      <td>0.836379</td>\n",
       "    </tr>\n",
       "    <tr>\n",
       "      <th>SLC25A37</th>\n",
       "      <td>206.447476</td>\n",
       "      <td>186.235511</td>\n",
       "      <td>0.902096</td>\n",
       "      <td>0.714871</td>\n",
       "    </tr>\n",
       "    <tr>\n",
       "      <th>RYBP</th>\n",
       "      <td>4.081056</td>\n",
       "      <td>2.947615</td>\n",
       "      <td>0.722268</td>\n",
       "      <td>1.262018</td>\n",
       "    </tr>\n",
       "    <tr>\n",
       "      <th>SPECC1</th>\n",
       "      <td>4.439930</td>\n",
       "      <td>3.895261</td>\n",
       "      <td>0.877325</td>\n",
       "      <td>1.179602</td>\n",
       "    </tr>\n",
       "    <tr>\n",
       "      <th>EPB41</th>\n",
       "      <td>13.324056</td>\n",
       "      <td>15.192647</td>\n",
       "      <td>1.140242</td>\n",
       "      <td>1.627686</td>\n",
       "    </tr>\n",
       "    <tr>\n",
       "      <th>RBM4</th>\n",
       "      <td>5.408328</td>\n",
       "      <td>2.781088</td>\n",
       "      <td>0.514223</td>\n",
       "      <td>1.447018</td>\n",
       "    </tr>\n",
       "    <tr>\n",
       "      <th>HBB</th>\n",
       "      <td>113264.818845</td>\n",
       "      <td>134439.976336</td>\n",
       "      <td>1.186953</td>\n",
       "      <td>0.813421</td>\n",
       "    </tr>\n",
       "    <tr>\n",
       "      <th>CFLAR</th>\n",
       "      <td>16.656757</td>\n",
       "      <td>13.851299</td>\n",
       "      <td>0.831572</td>\n",
       "      <td>0.696888</td>\n",
       "    </tr>\n",
       "    <tr>\n",
       "      <th>HBA1</th>\n",
       "      <td>20121.541780</td>\n",
       "      <td>90745.507264</td>\n",
       "      <td>4.509868</td>\n",
       "      <td>1.150650</td>\n",
       "    </tr>\n",
       "    <tr>\n",
       "      <th>TRIM13</th>\n",
       "      <td>1.050355</td>\n",
       "      <td>0.722116</td>\n",
       "      <td>0.687497</td>\n",
       "      <td>2.317028</td>\n",
       "    </tr>\n",
       "    <tr>\n",
       "      <th>SYNE3</th>\n",
       "      <td>1.028853</td>\n",
       "      <td>0.391712</td>\n",
       "      <td>0.380727</td>\n",
       "      <td>5.140694</td>\n",
       "    </tr>\n",
       "  </tbody>\n",
       "</table>\n",
       "</div>"
      ],
      "text/plain": [
       "              pool_mean       pool_std   pool_cv  pool_stability_cv\n",
       "TPT1          99.870647     101.984256  1.021163           1.281687\n",
       "STIP1          1.542766       0.726204  0.470715           1.118414\n",
       "SCFD1          4.743274       2.149083  0.453080           2.230019\n",
       "RPL37         47.793400      45.747994  0.957203           4.606917\n",
       "OGA            6.913984       4.028201  0.582616           1.373671\n",
       "SAMHD1         5.647720       3.479893  0.616159           0.836379\n",
       "SLC25A37     206.447476     186.235511  0.902096           0.714871\n",
       "RYBP           4.081056       2.947615  0.722268           1.262018\n",
       "SPECC1         4.439930       3.895261  0.877325           1.179602\n",
       "EPB41         13.324056      15.192647  1.140242           1.627686\n",
       "RBM4           5.408328       2.781088  0.514223           1.447018\n",
       "HBB       113264.818845  134439.976336  1.186953           0.813421\n",
       "CFLAR         16.656757      13.851299  0.831572           0.696888\n",
       "HBA1       20121.541780   90745.507264  4.509868           1.150650\n",
       "TRIM13         1.050355       0.722116  0.687497           2.317028\n",
       "SYNE3          1.028853       0.391712  0.380727           5.140694"
      ]
     },
     "execution_count": 140,
     "metadata": {},
     "output_type": "execute_result"
    }
   ],
   "source": [
    "adata.var"
   ]
  },
  {
   "cell_type": "code",
   "execution_count": 103,
   "id": "0acf6f4b-0d1e-4a98-937e-b1cbd8b87f6b",
   "metadata": {},
   "outputs": [
    {
     "data": {
      "text/plain": [
       "ArrayView([[9.98638170e+01, 2.06423100e+00, 3.80511600e+00,\n",
       "            3.58792590e+01, 1.47395240e+01, 1.29085990e+01,\n",
       "            3.90202832e+02, 1.43453200e+00, 1.21606710e+01,\n",
       "            4.95345740e+01, 4.35112400e+00, 1.21213804e+05,\n",
       "            4.68641160e+01, 1.57683926e+04, 7.74075000e-01,\n",
       "            1.62781200e+00],\n",
       "           [2.92362182e+02, 8.01974800e+00, 1.51823210e+01,\n",
       "            1.11205999e+02, 4.37109740e+01, 4.69621330e+01,\n",
       "            3.72636744e+02, 4.37952400e+00, 2.06417450e+01,\n",
       "            6.12572010e+01, 1.51558080e+01, 1.17208240e+05,\n",
       "            1.15346969e+02, 1.44692470e+04, 3.34425000e+00,\n",
       "            5.09943500e+00],\n",
       "           [8.72300815e+02, 7.26774800e+00, 1.84634900e+01,\n",
       "            4.17397507e+02, 5.62469270e+01, 4.40823270e+01,\n",
       "            2.58591105e+02, 5.73111700e+00, 1.53003950e+01,\n",
       "            5.94940740e+01, 2.20880010e+01, 9.18616368e+04,\n",
       "            1.23745731e+02, 8.47847636e+03, 6.19110400e+00,\n",
       "            5.22581100e+00],\n",
       "           [4.31781188e+02, 8.63822300e+00, 1.50750330e+01,\n",
       "            1.97297108e+02, 5.36904320e+01, 8.53173880e+01,\n",
       "            3.81011281e+02, 4.98596300e+00, 1.87232890e+01,\n",
       "            6.18279860e+01, 2.00589440e+01, 8.96694218e+04,\n",
       "            1.72766677e+02, 1.17775300e+04, 4.48719500e+00,\n",
       "            6.23717400e+00],\n",
       "           [1.83762064e+02, 3.02358200e+00, 3.43405300e+00,\n",
       "            5.82373600e+01, 1.62467000e+01, 1.72875940e+01,\n",
       "            6.63439983e+02, 2.90883000e+00, 3.43015200e+01,\n",
       "            1.40887849e+02, 6.71980500e+00, 2.20298690e+05,\n",
       "            4.83486110e+01, 3.94492609e+04, 1.62596200e+00,\n",
       "            1.83175000e+00],\n",
       "           [2.05783112e+02, 1.66003900e+00, 4.38693400e+00,\n",
       "            5.57207010e+01, 2.43442890e+01, 1.39989110e+01,\n",
       "            5.36979749e+02, 3.55470700e+00, 2.83283890e+01,\n",
       "            1.32776957e+02, 6.20214500e+00, 1.97858215e+05,\n",
       "            8.14548690e+01, 3.04612142e+04, 1.22141400e+00,\n",
       "            2.25298100e+00],\n",
       "           [4.57075548e+02, 9.27362400e+00, 1.51839500e+01,\n",
       "            2.26080827e+02, 7.56033770e+01, 3.94799770e+01,\n",
       "            2.97854062e+02, 6.11620600e+00, 8.26455500e+00,\n",
       "            3.85423110e+01, 2.33916170e+01, 5.31614150e+04,\n",
       "            1.72309748e+02, 7.68923808e+03, 4.98420900e+00,\n",
       "            7.50086500e+00],\n",
       "           [2.43937324e+02, 5.13029700e+00, 1.06624680e+01,\n",
       "            1.37104156e+02, 2.98142030e+01, 2.65583520e+01,\n",
       "            4.45432328e+02, 2.78466600e+00, 1.76527250e+01,\n",
       "            5.67777760e+01, 1.16850430e+01, 7.77912044e+04,\n",
       "            6.21683420e+01, 1.31044741e+04, 3.64607900e+00,\n",
       "            3.76884900e+00],\n",
       "           [2.34375258e+02, 8.53691900e+00, 9.77134900e+00,\n",
       "            1.08738049e+02, 4.25562750e+01, 3.95551930e+01,\n",
       "            4.19557897e+02, 4.51120000e+00, 2.18841360e+01,\n",
       "            9.35529520e+01, 1.52873190e+01, 2.21340244e+05,\n",
       "            1.03415232e+02, 4.49240283e+04, 3.17478200e+00,\n",
       "            5.61058600e+00],\n",
       "           [3.30067097e+02, 1.18877820e+01, 1.33352740e+01,\n",
       "            1.61761145e+02, 5.73715620e+01, 4.87924890e+01,\n",
       "            2.63449786e+02, 7.17194700e+00, 1.36926810e+01,\n",
       "            4.56821980e+01, 2.22920660e+01, 7.07569798e+04,\n",
       "            1.45177144e+02, 9.51341253e+03, 4.73522000e+00,\n",
       "            5.81965000e+00],\n",
       "           [2.10838690e+02, 5.18949900e+00, 5.44062500e+00,\n",
       "            9.77318140e+01, 2.16152040e+01, 2.03269440e+01,\n",
       "            4.44807877e+02, 2.66249600e+00, 2.45373530e+01,\n",
       "            1.04293764e+02, 7.79225700e+00, 1.73251385e+05,\n",
       "            4.96165130e+01, 2.94228970e+04, 1.93743400e+00,\n",
       "            3.41177500e+00],\n",
       "           [2.14549992e+02, 9.27563500e+00, 1.01440070e+01,\n",
       "            1.04108675e+02, 6.56049500e+01, 3.95529750e+01,\n",
       "            5.20443446e+02, 8.00652400e+00, 1.94834910e+01,\n",
       "            1.12017434e+02, 2.04179570e+01, 1.25113942e+05,\n",
       "            2.10037956e+02, 2.73484385e+04, 2.62409600e+00,\n",
       "            6.74900900e+00],\n",
       "           [3.11243872e+02, 1.12797230e+01, 1.94261110e+01,\n",
       "            1.09612481e+02, 1.41124027e+02, 5.38950690e+01,\n",
       "            5.07611833e+02, 2.17183970e+01, 1.52348840e+01,\n",
       "            8.72335810e+01, 2.94509140e+01, 5.23336005e+04,\n",
       "            4.34629445e+02, 6.45800802e+03, 5.85572600e+00,\n",
       "            1.17247450e+01],\n",
       "           [6.03198317e+02, 1.14643560e+01, 2.25214940e+01,\n",
       "            2.39005916e+02, 9.25462350e+01, 6.65604090e+01,\n",
       "            5.15667353e+02, 8.39059800e+00, 2.36305810e+01,\n",
       "            8.25111850e+01, 2.62704480e+01, 1.05537500e+05,\n",
       "            1.95026733e+02, 1.08861728e+04, 6.43344600e+00,\n",
       "            9.41089700e+00],\n",
       "           [3.13811044e+02, 3.84481900e+00, 1.08260020e+01,\n",
       "            1.25483700e+02, 3.12110480e+01, 1.98066410e+01,\n",
       "            7.26082198e+02, 3.45184800e+00, 2.60088630e+01,\n",
       "            1.23523394e+02, 1.04342260e+01, 2.48730795e+05,\n",
       "            7.43003540e+01, 3.34797630e+04, 2.23825700e+00,\n",
       "            3.05688900e+00],\n",
       "           [5.89292820e+02, 1.29099530e+01, 2.56195760e+01,\n",
       "            2.67185950e+02, 1.07014912e+02, 8.20815630e+01,\n",
       "            5.49513618e+02, 1.00509680e+01, 2.53281820e+01,\n",
       "            9.67023230e+01, 3.60426270e+01, 1.19276386e+05,\n",
       "            2.13469605e+02, 1.38004549e+04, 7.16384400e+00,\n",
       "            1.36584660e+01]])"
      ]
     },
     "execution_count": 103,
     "metadata": {},
     "output_type": "execute_result"
    }
   ],
   "source": [
    "adata[adata.obs.gse=='GSE120649',:].X"
   ]
  },
  {
   "cell_type": "code",
   "execution_count": 102,
   "id": "97fd762a-984d-43aa-8d4b-e072b123c815",
   "metadata": {},
   "outputs": [
    {
     "data": {
      "text/plain": [
       "['GSE175718', 'GSE120649', 'GSE14346', 'GSE15296', 'GSE129166', 'GSE46474']\n",
       "Categories (6, object): ['GSE14346', 'GSE15296', 'GSE46474', 'GSE120649', 'GSE129166', 'GSE175718']"
      ]
     },
     "execution_count": 102,
     "metadata": {},
     "output_type": "execute_result"
    }
   ],
   "source": [
    "adata.obs.gse.unique()"
   ]
  },
  {
   "cell_type": "code",
   "execution_count": 90,
   "id": "90d5c8ef-5a0b-495a-bde3-9181117c7928",
   "metadata": {},
   "outputs": [
    {
     "data": {
      "text/plain": [
       "(1, 2129)"
      ]
     },
     "execution_count": 90,
     "metadata": {},
     "output_type": "execute_result"
    }
   ],
   "source": [
    "np.mean(X_[idx,i:] - X_[idx,i,None], axis=1).shape"
   ]
  },
  {
   "cell_type": "code",
   "execution_count": 94,
   "id": "250cd35c-d2ff-4397-a43b-c3de09925cd7",
   "metadata": {},
   "outputs": [
    {
     "data": {
      "text/plain": [
       "array([ 0.        , -0.09190557, -0.60799553, ...,  0.00485014,\n",
       "        0.01155771, -0.41119867])"
      ]
     },
     "execution_count": 94,
     "metadata": {},
     "output_type": "execute_result"
    }
   ],
   "source": [
    "np.mean(X_[idx,129:] - X_[idx,129,None], axis=1)[0]"
   ]
  },
  {
   "cell_type": "code",
   "execution_count": 96,
   "id": "4ee9e834-8c69-429e-90a9-ebaa4751b757",
   "metadata": {},
   "outputs": [
    {
     "data": {
      "text/plain": [
       "57483"
      ]
     },
     "execution_count": 96,
     "metadata": {},
     "output_type": "execute_result"
    }
   ],
   "source": [
    "len(mean_X_)"
   ]
  },
  {
   "cell_type": "code",
   "execution_count": 1,
   "id": "a0c4db4f-e514-414e-9238-0e134549d815",
   "metadata": {},
   "outputs": [
    {
     "ename": "NameError",
     "evalue": "name 'temp' is not defined",
     "output_type": "error",
     "traceback": [
      "\u001b[0;31m---------------------------------------------------------------------------\u001b[0m",
      "\u001b[0;31mNameError\u001b[0m                                 Traceback (most recent call last)",
      "Cell \u001b[0;32mIn[1], line 3\u001b[0m\n\u001b[1;32m      1\u001b[0m \u001b[38;5;66;03m# df_temp = pd.read_csv(temp.name)\u001b[39;00m\n\u001b[1;32m      2\u001b[0m \u001b[38;5;66;03m# df_temp\u001b[39;00m\n\u001b[0;32m----> 3\u001b[0m \u001b[43mtemp\u001b[49m\u001b[38;5;241m.\u001b[39mclose()\n",
      "\u001b[0;31mNameError\u001b[0m: name 'temp' is not defined"
     ]
    }
   ],
   "source": [
    "# df_temp = pd.read_csv(temp.name)\n",
    "# df_temp\n",
    "temp.close()"
   ]
  },
  {
   "cell_type": "code",
   "execution_count": 36,
   "id": "c748b831-351e-45f9-a703-4f387cd1f1d5",
   "metadata": {},
   "outputs": [
    {
     "ename": "NameError",
     "evalue": "name 'df_temp' is not defined",
     "output_type": "error",
     "traceback": [
      "\u001b[0;31m---------------------------------------------------------------------------\u001b[0m",
      "\u001b[0;31mNameError\u001b[0m                                 Traceback (most recent call last)",
      "Cell \u001b[0;32mIn[36], line 1\u001b[0m\n\u001b[0;32m----> 1\u001b[0m \u001b[43mdf_temp\u001b[49m\n",
      "\u001b[0;31mNameError\u001b[0m: name 'df_temp' is not defined"
     ]
    }
   ],
   "source": [
    "df_temp"
   ]
  },
  {
   "cell_type": "code",
   "execution_count": 20,
   "id": "5613a9ba-0cc2-4bc2-8643-5a3309470944",
   "metadata": {},
   "outputs": [],
   "source": [
    "# "
   ]
  },
  {
   "cell_type": "code",
   "execution_count": null,
   "id": "e9e27baf-4ab6-4c9f-b260-2a60e9cf95e7",
   "metadata": {},
   "outputs": [],
   "source": []
  }
 ],
 "metadata": {
  "kernelspec": {
   "display_name": "Python 3 (ipykernel)",
   "language": "python",
   "name": "python3"
  },
  "language_info": {
   "codemirror_mode": {
    "name": "ipython",
    "version": 3
   },
   "file_extension": ".py",
   "mimetype": "text/x-python",
   "name": "python",
   "nbconvert_exporter": "python",
   "pygments_lexer": "ipython3",
   "version": "3.12.1"
  }
 },
 "nbformat": 4,
 "nbformat_minor": 5
}
